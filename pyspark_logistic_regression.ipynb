{
 "cells": [
  {
   "cell_type": "code",
   "execution_count": 1,
   "metadata": {},
   "outputs": [],
   "source": [
    "from pyspark.sql import SparkSession\n",
    "from pyspark.ml.feature import VectorAssembler\n",
    "from pyspark.ml.linalg import Vectors\n",
    "from pyspark.sql.functions import udf\n",
    "from pyspark.ml.linalg import VectorUDT, DenseVector\n",
    "from pyspark.sql.types import StructType, StructField, FloatType, IntegerType, StringType, ArrayType\n",
    "\n",
    "import numpy as np"
   ]
  },
  {
   "cell_type": "code",
   "execution_count": 2,
   "metadata": {},
   "outputs": [],
   "source": [
    "import os\n",
    "import sys\n",
    "os.environ['PYSPARK_PYTHON'] = sys.executable\n",
    "os.environ['PYSPARK_DRIVER_PYTHON'] = sys.executable"
   ]
  },
  {
   "cell_type": "code",
   "execution_count": 4,
   "metadata": {},
   "outputs": [
    {
     "name": "stderr",
     "output_type": "stream",
     "text": [
      "23/10/27 00:39:04 WARN SparkSession: Using an existing Spark session; only runtime SQL configurations will take effect.\n"
     ]
    }
   ],
   "source": [
    "spark = SparkSession.builder.appName(\"LogisticRegression\").getOrCreate()"
   ]
  },
  {
   "cell_type": "code",
   "execution_count": 5,
   "metadata": {},
   "outputs": [
    {
     "name": "stderr",
     "output_type": "stream",
     "text": [
      "                                                                                \r"
     ]
    }
   ],
   "source": [
    "data = spark.read.csv(\"data/preprocessed_data.csv\", header=True, inferSchema=True, sep=',')\n",
    "data = data.withColumnRenamed(\"sentiment\",\"label\")"
   ]
  },
  {
   "cell_type": "code",
   "execution_count": 6,
   "metadata": {},
   "outputs": [],
   "source": [
    "def parser(x):\n",
    "    if x is None:\n",
    "        return None\n",
    "    elements = x.strip('[]').split(' ')\n",
    "    result = [float(i) for i in elements if i.strip() != '']\n",
    "    return (result) if result else None\n",
    "\n",
    "parse_embedding_udf = udf(lambda x: parser(x), ArrayType(FloatType()))\n",
    "data = data.withColumn(\"parsed_embeddings\", parse_embedding_udf(data[\"embeddings\"]))"
   ]
  },
  {
   "cell_type": "code",
   "execution_count": 7,
   "metadata": {},
   "outputs": [
    {
     "name": "stdout",
     "output_type": "stream",
     "text": [
      "root\n",
      " |-- label: integer (nullable = true)\n",
      " |-- word count: integer (nullable = true)\n",
      " |-- count_word: integer (nullable = true)\n",
      " |-- count_unique_word: integer (nullable = true)\n",
      " |-- count_letters: integer (nullable = true)\n",
      " |-- count_punctuations: integer (nullable = true)\n",
      " |-- count_words_upper: integer (nullable = true)\n",
      " |-- count_words_title: integer (nullable = true)\n",
      " |-- count_stopwords: integer (nullable = true)\n",
      " |-- mean_word_len: double (nullable = true)\n",
      " |-- word_unique_percent: double (nullable = true)\n",
      " |-- punct_percent: double (nullable = true)\n",
      " |-- reviews_pre: string (nullable = true)\n",
      " |-- embeddings: string (nullable = true)\n",
      " |-- parsed_embeddings: array (nullable = true)\n",
      " |    |-- element: float (containsNull = true)\n",
      "\n"
     ]
    }
   ],
   "source": [
    "data.printSchema()"
   ]
  },
  {
   "cell_type": "code",
   "execution_count": 8,
   "metadata": {},
   "outputs": [
    {
     "name": "stdout",
     "output_type": "stream",
     "text": [
      "+-----+----------+----------+-----------------+-------------+------------------+-----------------+-----------------+---------------+------------------+-------------------+------------------+--------------------+--------------------+--------------------+\n",
      "|label|word count|count_word|count_unique_word|count_letters|count_punctuations|count_words_upper|count_words_title|count_stopwords|     mean_word_len|word_unique_percent|     punct_percent|         reviews_pre|          embeddings|   parsed_embeddings|\n",
      "+-----+----------+----------+-----------------+-------------+------------------+-----------------+-----------------+---------------+------------------+-------------------+------------------+--------------------+--------------------+--------------------+\n",
      "|    1|       307|       307|              208|         1761|                78|                8|               36|            133| 4.739413680781759|  67.75244299674267|25.407166123778502|one reviewer ment...|[ 9.66224596e-02 ...|[0.09662246, 0.08...|\n",
      "|    1|       162|       162|              114|          998|                44|                2|               12|             66| 5.166666666666667|  70.37037037037037|27.160493827160494|wonderful little ...|[ 0.10681556  0.2...|[0.10681556, 0.20...|\n",
      "|    1|       166|       166|              121|          926|                40|                3|               20|             76|4.5843373493975905|  72.89156626506023|24.096385542168676|thought wonderful...|[ 0.15249938  0.1...|[0.15249938, 0.14...|\n",
      "|    0|       138|       138|               96|          748|                42|                3|               13|             62| 4.427536231884058|  69.56521739130434|30.434782608695652|basically family ...|[ 0.19274706 -0.0...|[0.19274706, -0.0...|\n",
      "|    1|       230|       230|              152|         1317|                56|                1|               31|             96| 4.730434782608696|  66.08695652173913|24.347826086956523|petter matteis lo...|[ 2.90029079e-01 ...|[0.29002908, 0.27...|\n",
      "|    1|       119|       119|               97|          656|                28|                1|               10|             59|4.5210084033613445|   81.5126050420168|23.529411764705884|probably alltime ...|[ 0.11470914  0.2...|[0.11470914, 0.20...|\n",
      "|    1|       150|       150|               98|          726|                12|                7|                7|             74|3.8466666666666667|  65.33333333333333|               8.0|sure would like s...|[ 1.25294626e-01 ...|[0.12529463, 0.23...|\n",
      "|    0|       174|       174|              122|          934|                33|                4|               10|             86| 4.373563218390805|  70.11494252873563| 18.96551724137931|show amazing fres...|[ 1.1566574e-01  ...|[0.11566574, 0.09...|\n",
      "|    0|       130|       130|              100|          681|                31|                2|               11|             57| 4.246153846153846|  76.92307692307692|23.846153846153847|encouraged positi...|[ 0.07451253  0.0...|[0.07451253, 0.02...|\n",
      "|    1|        33|        33|               26|          176|                12|                0|                4|             14| 4.363636363636363|  78.78787878787878| 36.36363636363637|like original gut...|[ 0.20399998  0.2...|[0.20399998, 0.26...|\n",
      "|    0|        96|        96|               77|          578|                35|                3|                9|             37|           5.03125|  80.20833333333333|36.458333333333336|phil alien one qu...|[ 0.23285894  0.0...|[0.23285894, 0.00...|\n",
      "|    0|       180|       180|              116|          937|                32|               10|               20|             92| 4.211111111111111|  64.44444444444444| 17.77777777777778|saw movie 12 came...|[ 0.13416351  0.1...|[0.13416351, 0.12...|\n",
      "|    0|       398|       398|              251|         2227|                86|               10|               57|            162| 4.597989949748744|  63.06532663316583|21.608040201005025|im big fan boll w...|[ 0.10680857 -0.0...|[0.10680857, -0.0...|\n",
      "|    0|       117|       117|               86|          662|                47|                6|               20|             55| 4.666666666666667|   73.5042735042735| 40.17094017094017|cast played shake...|[ 0.14492106  0.1...|[0.14492106, 0.15...|\n",
      "|    1|        50|        50|               39|          275|                 7|                1|                7|             22|              4.52|               78.0|              14.0|fantastic movie t...|[ 0.06513994  0.4...|[0.06513994, 0.44...|\n",
      "|    0|       140|       140|              105|          830|                31|                0|               13|             65| 4.935714285714286|               75.0|22.142857142857142|kind drawn erotic...|[ 0.21169178  0.0...|[0.21169178, 0.06...|\n",
      "|    1|       146|       146|               90|          720|                12|                1|               15|             88|3.9383561643835616|  61.64383561643836| 8.219178082191782|film simply remad...|[ 0.13488178  0.0...|[0.13488178, 0.08...|\n",
      "|    0|       228|       228|              152|         1322|               117|                4|               30|             95| 4.802631578947368|  66.66666666666667| 51.31578947368421|movie made one to...|[ 2.4951597e-01  ...|[0.24951597, 0.03...|\n",
      "|    1|       129|       129|               91|          639|                 8|                3|               12|             62|3.9612403100775193|  70.54263565891473|   6.2015503875969|remember filmit f...|[ 7.57641792e-02 ...|[0.07576418, 0.22...|\n",
      "|    0|       133|       133|              101|          741|                22|                1|                8|             67| 4.578947368421052|  75.93984962406014|16.541353383458645|awful film must r...|[ 0.17669258  0.1...|[0.17669258, 0.18...|\n",
      "+-----+----------+----------+-----------------+-------------+------------------+-----------------+-----------------+---------------+------------------+-------------------+------------------+--------------------+--------------------+--------------------+\n",
      "only showing top 20 rows\n",
      "\n"
     ]
    },
    {
     "name": "stderr",
     "output_type": "stream",
     "text": [
      "                                                                                \r"
     ]
    }
   ],
   "source": [
    "data.show()"
   ]
  },
  {
   "cell_type": "code",
   "execution_count": 9,
   "metadata": {},
   "outputs": [],
   "source": [
    "from pyspark.ml.linalg import Vectors, VectorUDT\n",
    "from pyspark.sql.functions import udf\n",
    "\n",
    "# UDF to convert array to Vector\n",
    "vector_udf = udf(lambda a: Vectors.dense(a), VectorUDT())\n",
    "data = data.withColumn(\"parsed_embeddings_vector\", vector_udf(data[\"parsed_embeddings\"]))"
   ]
  },
  {
   "cell_type": "code",
   "execution_count": 10,
   "metadata": {},
   "outputs": [
    {
     "data": {
      "text/plain": [
       "['label',\n",
       " 'word count',\n",
       " 'count_word',\n",
       " 'count_unique_word',\n",
       " 'count_letters',\n",
       " 'count_punctuations',\n",
       " 'count_words_upper',\n",
       " 'count_words_title',\n",
       " 'count_stopwords',\n",
       " 'mean_word_len',\n",
       " 'word_unique_percent',\n",
       " 'punct_percent',\n",
       " 'reviews_pre',\n",
       " 'embeddings',\n",
       " 'parsed_embeddings',\n",
       " 'parsed_embeddings_vector']"
      ]
     },
     "execution_count": 10,
     "metadata": {},
     "output_type": "execute_result"
    }
   ],
   "source": [
    "data.columns"
   ]
  },
  {
   "cell_type": "code",
   "execution_count": 11,
   "metadata": {},
   "outputs": [
    {
     "name": "stderr",
     "output_type": "stream",
     "text": [
      "                                                                                \r"
     ]
    }
   ],
   "source": [
    "feature_cols = data.columns[1:-4] + data.columns[-1:]\n",
    "\n",
    "assembler = VectorAssembler(inputCols=feature_cols, outputCol=\"features\")\n",
    "data = assembler.transform(data)"
   ]
  },
  {
   "cell_type": "code",
   "execution_count": 12,
   "metadata": {},
   "outputs": [],
   "source": [
    "train_data, test_data = data.randomSplit([0.7, 0.3], seed=42)"
   ]
  },
  {
   "cell_type": "code",
   "execution_count": 13,
   "metadata": {},
   "outputs": [
    {
     "name": "stderr",
     "output_type": "stream",
     "text": [
      "23/10/27 00:39:29 WARN InstanceBuilder: Failed to load implementation from:dev.ludovic.netlib.blas.JNIBLAS\n",
      "Java HotSpot(TM) 64-Bit Server VM warning: CodeCache is full. Compiler has been disabled.\n",
      "Java HotSpot(TM) 64-Bit Server VM warning: Try increasing the code cache size using -XX:ReservedCodeCacheSize=\n"
     ]
    },
    {
     "name": "stdout",
     "output_type": "stream",
     "text": [
      "CodeCache: size=131072Kb used=35751Kb max_used=35758Kb free=95320Kb\n",
      " bounds [0x00000001069d8000, 0x0000000108cf8000, 0x000000010e9d8000]\n",
      " total_blobs=14145 nmethods=12968 adapters=1089\n",
      " compilation: disabled (not enough contiguous free space left)\n"
     ]
    }
   ],
   "source": [
    "from pyspark.ml.classification import LogisticRegression\n",
    "\n",
    "lr = LogisticRegression(labelCol=\"label\", featuresCol=\"features\")\n",
    "lr_model = lr.fit(train_data)"
   ]
  },
  {
   "cell_type": "code",
   "execution_count": 14,
   "metadata": {},
   "outputs": [],
   "source": [
    "predictions = lr_model.transform(test_data)"
   ]
  },
  {
   "cell_type": "code",
   "execution_count": 15,
   "metadata": {},
   "outputs": [
    {
     "name": "stderr",
     "output_type": "stream",
     "text": [
      "                                                                                \r"
     ]
    },
    {
     "name": "stdout",
     "output_type": "stream",
     "text": [
      "Accuracy: 0.8322094951718549\n"
     ]
    }
   ],
   "source": [
    "from pyspark.ml.evaluation import BinaryClassificationEvaluator\n",
    "\n",
    "evaluator = BinaryClassificationEvaluator()\n",
    "auc = evaluator.evaluate(predictions)\n",
    "print(f\"AUC: {auc}\")"
   ]
  },
  {
   "cell_type": "code",
   "execution_count": 17,
   "metadata": {},
   "outputs": [
    {
     "name": "stderr",
     "output_type": "stream",
     "text": [
      "                                                                                \r"
     ]
    }
   ],
   "source": [
    "model_path = \"models/pyspark_LR_model\"\n",
    "lr_model.save(model_path)"
   ]
  },
  {
   "cell_type": "code",
   "execution_count": 18,
   "metadata": {},
   "outputs": [],
   "source": [
    "spark.stop()"
   ]
  },
  {
   "cell_type": "code",
   "execution_count": null,
   "metadata": {},
   "outputs": [],
   "source": []
  }
 ],
 "metadata": {
  "kernelspec": {
   "display_name": "da331_spark",
   "language": "python",
   "name": "python3"
  },
  "language_info": {
   "codemirror_mode": {
    "name": "ipython",
    "version": 3
   },
   "file_extension": ".py",
   "mimetype": "text/x-python",
   "name": "python",
   "nbconvert_exporter": "python",
   "pygments_lexer": "ipython3",
   "version": "3.10.12"
  }
 },
 "nbformat": 4,
 "nbformat_minor": 2
}

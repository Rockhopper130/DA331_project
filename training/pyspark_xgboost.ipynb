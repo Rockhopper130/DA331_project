{
 "cells": [
  {
   "cell_type": "code",
   "execution_count": 23,
   "metadata": {},
   "outputs": [],
   "source": [
    "from pyspark.sql import SparkSession\n",
    "from pyspark.ml.feature import VectorAssembler\n",
    "from pyspark.ml.linalg import Vectors\n",
    "from pyspark.sql.functions import udf\n",
    "from pyspark.ml.linalg import VectorUDT, DenseVector\n",
    "from pyspark.sql.types import StructType, StructField, FloatType, IntegerType, StringType, ArrayType\n",
    "\n",
    "# from pyspark.ml.classification import XGBoostClassifier\n",
    "# from pyspark.ml import Pipeline\n",
    "\n",
    "from xgboost.spark import SparkXGBClassifier\n",
    "\n",
    "import numpy as np"
   ]
  },
  {
   "cell_type": "code",
   "execution_count": 24,
   "metadata": {},
   "outputs": [],
   "source": [
    "import os\n",
    "import sys\n",
    "os.environ['PYSPARK_PYTHON'] = sys.executable\n",
    "os.environ['PYSPARK_DRIVER_PYTHON'] = sys.executable"
   ]
  },
  {
   "cell_type": "code",
   "execution_count": 25,
   "metadata": {},
   "outputs": [],
   "source": [
    "spark = SparkSession.builder.appName(\"XGBoost\").getOrCreate()"
   ]
  },
  {
   "cell_type": "code",
   "execution_count": 26,
   "metadata": {},
   "outputs": [],
   "source": [
    "data = spark.read.csv(\"../data/preprocessed_data.csv\", header=True, inferSchema=True, sep=',')\n",
    "data = data.withColumnRenamed(\"sentiment\",\"label\")"
   ]
  },
  {
   "cell_type": "code",
   "execution_count": 27,
   "metadata": {},
   "outputs": [],
   "source": [
    "def parser(x):\n",
    "    if x is None:\n",
    "        return None\n",
    "    elements = x.strip('[]').split(' ')\n",
    "    result = [float(i) for i in elements if i.strip() != '']\n",
    "    return (result) if result else None\n",
    "\n",
    "parse_embedding_udf = udf(lambda x: parser(x), ArrayType(FloatType()))\n",
    "data = data.withColumn(\"parsed_embeddings\", parse_embedding_udf(data[\"embeddings\"]))"
   ]
  },
  {
   "cell_type": "code",
   "execution_count": 30,
   "metadata": {},
   "outputs": [],
   "source": [
    "from pyspark.ml.linalg import Vectors, VectorUDT\n",
    "from pyspark.sql.functions import udf\n",
    "\n",
    "# UDF to convert array to Vector\n",
    "vector_udf = udf(lambda a: Vectors.dense(a), VectorUDT())\n",
    "data = data.withColumn(\"parsed_embeddings_vector\", vector_udf(data[\"parsed_embeddings\"]))"
   ]
  },
  {
   "cell_type": "code",
   "execution_count": 32,
   "metadata": {},
   "outputs": [],
   "source": [
    "feature_cols = data.columns[1:-4] + data.columns[-1:]\n",
    "\n",
    "assembler = VectorAssembler(inputCols=feature_cols, outputCol=\"features\")\n",
    "data = assembler.transform(data)"
   ]
  },
  {
   "cell_type": "code",
   "execution_count": 33,
   "metadata": {},
   "outputs": [],
   "source": [
    "train_data, test_data = data.randomSplit([0.7, 0.3], seed=42)"
   ]
  },
  {
   "cell_type": "code",
   "execution_count": 46,
   "metadata": {},
   "outputs": [],
   "source": [
    "# Create an XGBoost classifier\n",
    "xgboost = SparkXGBClassifier(\n",
    "    features_col=\"features\",\n",
    "    label_col=\"label\",\n",
    "    prediction_col=\"prediction\",\n",
    "    eval_metric=\"logloss\",  # Evaluation metric\n",
    "    max_depth=6\n",
    ")"
   ]
  },
  {
   "cell_type": "code",
   "execution_count": 47,
   "metadata": {},
   "outputs": [
    {
     "name": "stderr",
     "output_type": "stream",
     "text": [
      "2023-10-27 13:33:10,256 INFO XGBoost-PySpark: _fit Running xgboost-2.0.1 on 1 workers with\n",
      "\tbooster params: {'objective': 'binary:logistic', 'device': 'cpu', 'max_depth': 6, 'eval_metric': 'logloss', 'nthread': 1}\n",
      "\ttrain_call_kwargs_params: {'verbose_eval': True, 'num_boost_round': 100}\n",
      "\tdmatrix_kwargs: {'nthread': 1, 'missing': nan}\n",
      "[13:33:13] task 0 got new rank 0                                    (0 + 1) / 1]\n",
      "2023-10-27 13:33:17,573 INFO XGBoost-PySpark: _fit Finished xgboost training!   \n"
     ]
    }
   ],
   "source": [
    "# Fit the model to the training data\n",
    "model = xgboost.fit(train_data)\n",
    "\n",
    "# Make predictions on the test data\n",
    "predictions = model.transform(test_data)"
   ]
  },
  {
   "cell_type": "code",
   "execution_count": 48,
   "metadata": {},
   "outputs": [
    {
     "name": "stderr",
     "output_type": "stream",
     "text": [
      "INFO:XGBoost-PySpark:Do the inference on the CPUs\n",
      "2023-10-27 13:33:22,097 INFO XGBoost-PySpark: predict_udf Do the inference on the CPUs\n",
      "2023-10-27 13:33:22,304 INFO XGBoost-PySpark: predict_udf Do the inference on the CPUs\n",
      "2023-10-27 13:33:22,774 INFO XGBoost-PySpark: predict_udf Do the inference on the CPUs\n",
      "2023-10-27 13:33:22,784 INFO XGBoost-PySpark: predict_udf Do the inference on the CPUs\n",
      "2023-10-27 13:33:22,804 INFO XGBoost-PySpark: predict_udf Do the inference on the CPUs\n",
      "2023-10-27 13:33:22,813 INFO XGBoost-PySpark: predict_udf Do the inference on the CPUs\n",
      "2023-10-27 13:33:22,883 INFO XGBoost-PySpark: predict_udf Do the inference on the CPUs\n",
      "                                                                                \r"
     ]
    },
    {
     "name": "stdout",
     "output_type": "stream",
     "text": [
      "AUC: 0.8380035280295774\n"
     ]
    }
   ],
   "source": [
    "from pyspark.ml.evaluation import BinaryClassificationEvaluator\n",
    "\n",
    "evaluator = BinaryClassificationEvaluator()\n",
    "auc = evaluator.evaluate(predictions)\n",
    "print(f\"AUC: {auc}\")"
   ]
  },
  {
   "cell_type": "code",
   "execution_count": 50,
   "metadata": {},
   "outputs": [],
   "source": [
    "model_path = \"../models/pyspark_XGB_model\"\n",
    "model.save(model_path)"
   ]
  },
  {
   "cell_type": "code",
   "execution_count": null,
   "metadata": {},
   "outputs": [],
   "source": []
  }
 ],
 "metadata": {
  "kernelspec": {
   "display_name": "da331_spark",
   "language": "python",
   "name": "python3"
  },
  "language_info": {
   "codemirror_mode": {
    "name": "ipython",
    "version": 3
   },
   "file_extension": ".py",
   "mimetype": "text/x-python",
   "name": "python",
   "nbconvert_exporter": "python",
   "pygments_lexer": "ipython3",
   "version": "3.10.12"
  }
 },
 "nbformat": 4,
 "nbformat_minor": 2
}

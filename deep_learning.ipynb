{
 "cells": [
  {
   "cell_type": "code",
   "execution_count": 36,
   "metadata": {},
   "outputs": [],
   "source": [
    "import warnings\n",
    "warnings.filterwarnings('ignore')"
   ]
  },
  {
   "cell_type": "code",
   "execution_count": 25,
   "metadata": {},
   "outputs": [],
   "source": [
    "import numpy as np\n",
    "import pandas as pd \n",
    "import matplotlib.pyplot as plt \n",
    "import os \n",
    "import sys\n",
    "\n",
    "from sklearn.model_selection import train_test_split\n",
    "from sklearn.metrics import accuracy_score"
   ]
  },
  {
   "cell_type": "code",
   "execution_count": 42,
   "metadata": {},
   "outputs": [],
   "source": [
    "from keras.models import Sequential\n",
    "from keras import layers, models, optimizers\n",
    "from keras.preprocessing.text import Tokenizer\n",
    "from keras.preprocessing.sequence import pad_sequences\n",
    "from keras.callbacks import ModelCheckpoint\n",
    "from keras.layers import LSTM,Dropout,Dense\n",
    "from keras.layers import Embedding\n",
    "from keras.preprocessing import sequence\n",
    "from keras.layers import LSTM, Conv1D, MaxPooling1D, Dropout\n",
    "from keras.callbacks import EarlyStopping"
   ]
  },
  {
   "cell_type": "code",
   "execution_count": 6,
   "metadata": {},
   "outputs": [],
   "source": [
    "def plot_history(history):\n",
    "    acc = history.history['accuracy']\n",
    "    val_acc = history.history['val_accuracy']\n",
    "    loss = history.history['loss']\n",
    "    val_loss = history.history['val_loss']\n",
    "    x = range(1, len(acc) + 1)\n",
    "\n",
    "    plt.figure(figsize=(12, 5))\n",
    "    plt.subplot(1, 2, 1)\n",
    "    plt.plot(x, acc, 'b', label='Training acc')\n",
    "    plt.plot(x, val_acc, 'r', label='Validation acc')\n",
    "    plt.title('Training and validation accuracy')\n",
    "    plt.legend()\n",
    "    plt.subplot(1, 2, 2)\n",
    "    plt.plot(x, loss, 'b', label='Training loss')\n",
    "    plt.plot(x, val_loss, 'r', label='Validation loss')\n",
    "    plt.title('Training and validation loss')\n",
    "    plt.legend()\n"
   ]
  },
  {
   "cell_type": "code",
   "execution_count": 7,
   "metadata": {},
   "outputs": [
    {
     "data": {
      "text/html": [
       "<div>\n",
       "<style scoped>\n",
       "    .dataframe tbody tr th:only-of-type {\n",
       "        vertical-align: middle;\n",
       "    }\n",
       "\n",
       "    .dataframe tbody tr th {\n",
       "        vertical-align: top;\n",
       "    }\n",
       "\n",
       "    .dataframe thead th {\n",
       "        text-align: right;\n",
       "    }\n",
       "</style>\n",
       "<table border=\"1\" class=\"dataframe\">\n",
       "  <thead>\n",
       "    <tr style=\"text-align: right;\">\n",
       "      <th></th>\n",
       "      <th>sentiment</th>\n",
       "      <th>word count</th>\n",
       "      <th>count_word</th>\n",
       "      <th>count_unique_word</th>\n",
       "      <th>count_letters</th>\n",
       "      <th>count_punctuations</th>\n",
       "      <th>count_words_upper</th>\n",
       "      <th>count_words_title</th>\n",
       "      <th>count_stopwords</th>\n",
       "      <th>mean_word_len</th>\n",
       "      <th>word_unique_percent</th>\n",
       "      <th>punct_percent</th>\n",
       "      <th>reviews_pre</th>\n",
       "      <th>embeddings</th>\n",
       "    </tr>\n",
       "  </thead>\n",
       "  <tbody>\n",
       "    <tr>\n",
       "      <th>0</th>\n",
       "      <td>1</td>\n",
       "      <td>307</td>\n",
       "      <td>307</td>\n",
       "      <td>208</td>\n",
       "      <td>1761</td>\n",
       "      <td>78</td>\n",
       "      <td>8</td>\n",
       "      <td>36</td>\n",
       "      <td>133</td>\n",
       "      <td>4.739414</td>\n",
       "      <td>67.752443</td>\n",
       "      <td>25.407166</td>\n",
       "      <td>one reviewer mentioned watching 1 oz episode h...</td>\n",
       "      <td>[ 9.66224596e-02  8.30717161e-02 -8.42405781e-...</td>\n",
       "    </tr>\n",
       "    <tr>\n",
       "      <th>1</th>\n",
       "      <td>1</td>\n",
       "      <td>162</td>\n",
       "      <td>162</td>\n",
       "      <td>114</td>\n",
       "      <td>998</td>\n",
       "      <td>44</td>\n",
       "      <td>2</td>\n",
       "      <td>12</td>\n",
       "      <td>66</td>\n",
       "      <td>5.166667</td>\n",
       "      <td>70.370370</td>\n",
       "      <td>27.160494</td>\n",
       "      <td>wonderful little production filming technique ...</td>\n",
       "      <td>[ 0.10681556  0.20221776 -0.3240229  -0.173946...</td>\n",
       "    </tr>\n",
       "    <tr>\n",
       "      <th>2</th>\n",
       "      <td>1</td>\n",
       "      <td>166</td>\n",
       "      <td>166</td>\n",
       "      <td>121</td>\n",
       "      <td>926</td>\n",
       "      <td>40</td>\n",
       "      <td>3</td>\n",
       "      <td>20</td>\n",
       "      <td>76</td>\n",
       "      <td>4.584337</td>\n",
       "      <td>72.891566</td>\n",
       "      <td>24.096386</td>\n",
       "      <td>thought wonderful way spend time hot summer we...</td>\n",
       "      <td>[ 0.15249938  0.1449968  -0.13146062 -0.189847...</td>\n",
       "    </tr>\n",
       "    <tr>\n",
       "      <th>3</th>\n",
       "      <td>0</td>\n",
       "      <td>138</td>\n",
       "      <td>138</td>\n",
       "      <td>96</td>\n",
       "      <td>748</td>\n",
       "      <td>42</td>\n",
       "      <td>3</td>\n",
       "      <td>13</td>\n",
       "      <td>62</td>\n",
       "      <td>4.427536</td>\n",
       "      <td>69.565217</td>\n",
       "      <td>30.434783</td>\n",
       "      <td>basically family little boy jake think zombie ...</td>\n",
       "      <td>[ 0.19274706 -0.01494771 -0.12097006 -0.145470...</td>\n",
       "    </tr>\n",
       "    <tr>\n",
       "      <th>4</th>\n",
       "      <td>1</td>\n",
       "      <td>230</td>\n",
       "      <td>230</td>\n",
       "      <td>152</td>\n",
       "      <td>1317</td>\n",
       "      <td>56</td>\n",
       "      <td>1</td>\n",
       "      <td>31</td>\n",
       "      <td>96</td>\n",
       "      <td>4.730435</td>\n",
       "      <td>66.086957</td>\n",
       "      <td>24.347826</td>\n",
       "      <td>petter matteis love time money visually stunni...</td>\n",
       "      <td>[ 2.90029079e-01  2.73119152e-01 -1.13156982e-...</td>\n",
       "    </tr>\n",
       "  </tbody>\n",
       "</table>\n",
       "</div>"
      ],
      "text/plain": [
       "   sentiment  word count  count_word  count_unique_word  count_letters  \\\n",
       "0          1         307         307                208           1761   \n",
       "1          1         162         162                114            998   \n",
       "2          1         166         166                121            926   \n",
       "3          0         138         138                 96            748   \n",
       "4          1         230         230                152           1317   \n",
       "\n",
       "   count_punctuations  count_words_upper  count_words_title  count_stopwords  \\\n",
       "0                  78                  8                 36              133   \n",
       "1                  44                  2                 12               66   \n",
       "2                  40                  3                 20               76   \n",
       "3                  42                  3                 13               62   \n",
       "4                  56                  1                 31               96   \n",
       "\n",
       "   mean_word_len  word_unique_percent  punct_percent  \\\n",
       "0       4.739414            67.752443      25.407166   \n",
       "1       5.166667            70.370370      27.160494   \n",
       "2       4.584337            72.891566      24.096386   \n",
       "3       4.427536            69.565217      30.434783   \n",
       "4       4.730435            66.086957      24.347826   \n",
       "\n",
       "                                         reviews_pre  \\\n",
       "0  one reviewer mentioned watching 1 oz episode h...   \n",
       "1  wonderful little production filming technique ...   \n",
       "2  thought wonderful way spend time hot summer we...   \n",
       "3  basically family little boy jake think zombie ...   \n",
       "4  petter matteis love time money visually stunni...   \n",
       "\n",
       "                                          embeddings  \n",
       "0  [ 9.66224596e-02  8.30717161e-02 -8.42405781e-...  \n",
       "1  [ 0.10681556  0.20221776 -0.3240229  -0.173946...  \n",
       "2  [ 0.15249938  0.1449968  -0.13146062 -0.189847...  \n",
       "3  [ 0.19274706 -0.01494771 -0.12097006 -0.145470...  \n",
       "4  [ 2.90029079e-01  2.73119152e-01 -1.13156982e-...  "
      ]
     },
     "execution_count": 7,
     "metadata": {},
     "output_type": "execute_result"
    }
   ],
   "source": [
    "data = pd.read_csv(\"data/preprocessed_data.csv\")\n",
    "data.head()"
   ]
  },
  {
   "cell_type": "code",
   "execution_count": 10,
   "metadata": {},
   "outputs": [],
   "source": [
    "X_train, X_test, y_train, y_test = train_test_split(data['reviews_pre'], data['sentiment'],test_size=0.2, random_state=0)\n",
    "\n",
    "X_train, X_valid, y_train, y_valid = train_test_split(X_train, y_train,test_size=0.1, random_state=0)"
   ]
  },
  {
   "cell_type": "code",
   "execution_count": 14,
   "metadata": {},
   "outputs": [
    {
     "name": "stdout",
     "output_type": "stream",
     "text": [
      "thought wonderful way spend time hot summer weekend sitting air conditioned theater watching lighthearted comedy plot simplistic dialogue witty character likable even well bread suspected serial killer may disappointed realize match point 2 risk addiction thought proof woody allen still fully control style many u grown lovethis would laughed one woodys comedy year dare say decade never impressed scarlet johanson managed tone sexy image jumped right average spirited young womanthis may crown jewel career wittier devil wear prada interesting superman great comedy go see friend\n",
      "[363, 158, 71, 9, 26, 356, 105, 3, 1791, 3460, 3404, 4712, 2294, 1654, 15, 134, 2, 140, 363, 130, 731, 790, 2, 1518, 15, 1138, 29, 1936, 9, 2685, 102, 1138, 3, 675, 1, 120, 48, 177, 120, 31, 1327, 105, 29, 3, 38, 2, 19, 127, 521, 4227, 924, 1138, 4198, 3557, 151, 1523, 1263, 440, 1138, 311, 269, 1939, 2267, 193, 3307, 149, 1138, 3532, 5, 144, 1138, 1213, 41, 40, 41, 233, 445, 3606, 2000, 62, 3, 46, 101, 1341, 3472, 101, 127, 243, 227, 292, 550, 712, 2147, 1562, 48, 28, 53, 460, 264, 2963, 1025, 4121, 1085, 187, 232, 275, 2492, 59, 35, 2104, 2, 721, 88, 59, 2944, 929, 7, 11, 41, 161, 815, 280, 4, 139, 703, 563, 508, 279, 104, 27, 4, 31, 3176, 2802, 1512, 461, 1268, 1089, 36, 2, 60, 17, 148, 39, 219, 2087, 451, 799, 435, 58, 13, 143, 80, 1138, 2554, 3460, 53, 9, 851, 815, 124, 241, 2155, 4530, 2083, 1973, 26, 1151, 51, 1507, 2, 3, 644, 4121, 1138, 234, 4386, 21, 630, 223, 628, 84, 478, 694, 1337, 3697, 1, 234, 162, 19, 134, 1138, 2, 48, 5, 788, 283, 302, 763, 1082, 184, 2365, 4587, 1031, 134, 16, 4146, 27, 821, 120, 433, 53, 561, 561, 53, 3, 1654, 53, 3167, 1290, 706, 9, 2, 122, 2628, 866, 134, 149, 763, 1082, 1449, 2576, 288, 3830, 2740, 2, 29, 19, 1740, 548, 2406, 274]\n"
     ]
    }
   ],
   "source": [
    "tokenizer = Tokenizer(num_words=5000)\n",
    "tokenizer.fit_on_texts(data.reviews_pre)\n",
    "\n",
    "X_train1 = tokenizer.texts_to_sequences(X_train)\n",
    "X_valid1 = tokenizer.texts_to_sequences(X_valid)\n",
    "X_test1 = tokenizer.texts_to_sequences(X_test)\n",
    "\n",
    "vocab_size = len(tokenizer.word_index) + 1  # Adding 1 because of reserved 0 index\n",
    "\n",
    "print(X_train[2])\n",
    "print(X_train1[2])"
   ]
  },
  {
   "cell_type": "code",
   "execution_count": 15,
   "metadata": {},
   "outputs": [
    {
     "name": "stdout",
     "output_type": "stream",
     "text": [
      "average length: 99.8\n",
      "max length: 949\n"
     ]
    }
   ],
   "source": [
    "seq_lens = [len(s) for s in X_train1]\n",
    "print(\"average length: %0.1f\" % np.mean(seq_lens))\n",
    "print(\"max length: %d\" % max(seq_lens))"
   ]
  },
  {
   "cell_type": "code",
   "execution_count": 16,
   "metadata": {},
   "outputs": [
    {
     "name": "stdout",
     "output_type": "stream",
     "text": [
      "[2147 1562   48   28   53  460  264 2963 1025 4121 1085  187  232  275\n",
      " 2492   59   35 2104    2  721   88   59 2944  929    7   11   41  161\n",
      "  815  280    4  139  703  563  508  279  104   27    4   31 3176 2802\n",
      " 1512  461 1268 1089   36    2   60   17  148   39  219 2087  451  799\n",
      "  435   58   13  143   80 1138 2554 3460   53    9  851  815  124  241\n",
      " 2155 4530 2083 1973   26 1151   51 1507    2    3  644 4121 1138  234\n",
      " 4386   21  630  223  628   84  478  694 1337 3697    1  234  162   19\n",
      "  134 1138    2   48    5  788  283  302  763 1082  184 2365 4587 1031\n",
      "  134   16 4146   27  821  120  433   53  561  561   53    3 1654   53\n",
      " 3167 1290  706    9    2  122 2628  866  134  149  763 1082 1449 2576\n",
      "  288 3830 2740    2   29   19 1740  548 2406  274]\n"
     ]
    }
   ],
   "source": [
    "maxlen = 150\n",
    "\n",
    "X_train1 = pad_sequences(X_train1, padding='post', maxlen=maxlen)\n",
    "X_valid1 = pad_sequences(X_valid1, padding='post', maxlen=maxlen)\n",
    "X_test1 = pad_sequences(X_test1, padding='post', maxlen=maxlen)\n",
    "\n",
    "print(X_train1[2, :])"
   ]
  },
  {
   "cell_type": "markdown",
   "metadata": {},
   "source": [
    "# Neural Network"
   ]
  },
  {
   "cell_type": "code",
   "execution_count": 22,
   "metadata": {},
   "outputs": [
    {
     "name": "stdout",
     "output_type": "stream",
     "text": [
      "Model: \"sequential_1\"\n",
      "_________________________________________________________________\n",
      " Layer (type)                Output Shape              Param #   \n",
      "=================================================================\n",
      " embedding (Embedding)       (None, 150, 50)           10554700  \n",
      "                                                                 \n",
      " flatten (Flatten)           (None, 7500)              0         \n",
      "                                                                 \n",
      " dense (Dense)               (None, 10)                75010     \n",
      "                                                                 \n",
      " dense_1 (Dense)             (None, 1)                 11        \n",
      "                                                                 \n",
      "=================================================================\n",
      "Total params: 10629721 (40.55 MB)\n",
      "Trainable params: 10629721 (40.55 MB)\n",
      "Non-trainable params: 0 (0.00 Byte)\n",
      "_________________________________________________________________\n"
     ]
    }
   ],
   "source": [
    "embedding_dim = 50\n",
    "callback = EarlyStopping(monitor='val_loss', patience=2)\n",
    "\n",
    "model = Sequential()\n",
    "model.add(layers.Embedding(input_dim=vocab_size, output_dim=embedding_dim, input_length=maxlen))\n",
    "model.add(layers.Flatten())\n",
    "model.add(layers.Dense(10, activation='relu'))\n",
    "model.add(layers.Dense(1, activation='sigmoid'))\n",
    "\n",
    "model.compile(optimizer='adam',loss='binary_crossentropy',metrics=['accuracy'])\n",
    "\n",
    "model.summary()"
   ]
  },
  {
   "cell_type": "code",
   "execution_count": 23,
   "metadata": {},
   "outputs": [
    {
     "name": "stdout",
     "output_type": "stream",
     "text": [
      "Epoch 1/10\n",
      "36/36 [==============================] - 2s 59ms/step - loss: 0.6796 - accuracy: 0.5855 - val_loss: 0.6246 - val_accuracy: 0.7720\n",
      "Epoch 2/10\n",
      "36/36 [==============================] - 2s 56ms/step - loss: 0.4341 - accuracy: 0.8368 - val_loss: 0.3264 - val_accuracy: 0.8570\n",
      "Epoch 3/10\n",
      "36/36 [==============================] - 2s 64ms/step - loss: 0.2578 - accuracy: 0.8987 - val_loss: 0.2919 - val_accuracy: 0.8730\n",
      "Epoch 4/10\n",
      "36/36 [==============================] - 2s 55ms/step - loss: 0.2036 - accuracy: 0.9235 - val_loss: 0.2887 - val_accuracy: 0.8785\n",
      "Epoch 5/10\n",
      "36/36 [==============================] - 2s 57ms/step - loss: 0.1639 - accuracy: 0.9428 - val_loss: 0.2956 - val_accuracy: 0.8780\n",
      "Epoch 6/10\n",
      "36/36 [==============================] - 2s 55ms/step - loss: 0.1252 - accuracy: 0.9626 - val_loss: 0.3110 - val_accuracy: 0.8783\n"
     ]
    }
   ],
   "source": [
    "history = model.fit(X_train1, y_train,epochs=10,verbose=True,validation_data=(X_valid1, y_valid),batch_size=1000,callbacks=[callback])"
   ]
  },
  {
   "cell_type": "code",
   "execution_count": 37,
   "metadata": {},
   "outputs": [
    {
     "name": "stdout",
     "output_type": "stream",
     "text": [
      "313/313 [==============================] - 0s 828us/step\n",
      "Accuracy : 0.8767\n"
     ]
    }
   ],
   "source": [
    "y_pred = model.predict(X_test1)\n",
    "y_pred_classes = (y_pred > 0.5).astype(int) \n",
    "\n",
    "accuracy = accuracy_score(y_test, y_pred_classes)\n",
    "print(f\"Accuracy : {accuracy}\")"
   ]
  },
  {
   "cell_type": "markdown",
   "metadata": {},
   "source": [
    "# LSTM"
   ]
  },
  {
   "cell_type": "code",
   "execution_count": null,
   "metadata": {},
   "outputs": [],
   "source": [
    "model.save('models/NN.keras')"
   ]
  },
  {
   "cell_type": "code",
   "execution_count": 43,
   "metadata": {},
   "outputs": [
    {
     "name": "stdout",
     "output_type": "stream",
     "text": [
      "Model: \"sequential_3\"\n",
      "_________________________________________________________________\n",
      " Layer (type)                Output Shape              Param #   \n",
      "=================================================================\n",
      " embedding_2 (Embedding)     (None, 150, 50)           10554700  \n",
      "                                                                 \n",
      " lstm_1 (LSTM)               (None, 100)               60400     \n",
      "                                                                 \n",
      " dense_2 (Dense)             (None, 1)                 101       \n",
      "                                                                 \n",
      "=================================================================\n",
      "Total params: 10615201 (40.49 MB)\n",
      "Trainable params: 10615201 (40.49 MB)\n",
      "Non-trainable params: 0 (0.00 Byte)\n",
      "_________________________________________________________________\n",
      "None\n"
     ]
    }
   ],
   "source": [
    "embedding_vecor_length = 32\n",
    "callback = EarlyStopping(monitor='val_loss', patience=2)\n",
    "\n",
    "model = Sequential()\n",
    "model.add(Embedding(input_dim=vocab_size, output_dim=embedding_dim, input_length=maxlen))\n",
    "model.add(LSTM(100, dropout=0.2, recurrent_dropout=0.2))\n",
    "model.add(Dense(1, activation='sigmoid'))\n",
    "\n",
    "model.compile(loss='binary_crossentropy', optimizer='adam', metrics=['accuracy'])\n",
    "\n",
    "print(model.summary())"
   ]
  },
  {
   "cell_type": "code",
   "execution_count": 44,
   "metadata": {},
   "outputs": [
    {
     "name": "stdout",
     "output_type": "stream",
     "text": [
      "Epoch 1/10\n",
      "141/141 [==============================] - 107s 739ms/step - loss: 0.6289 - accuracy: 0.6075 - val_loss: 0.3971 - val_accuracy: 0.8407\n",
      "Epoch 2/10\n",
      "141/141 [==============================] - 109s 774ms/step - loss: 0.3223 - accuracy: 0.8712 - val_loss: 0.2954 - val_accuracy: 0.8808\n",
      "Epoch 3/10\n",
      "141/141 [==============================] - 121s 858ms/step - loss: 0.2750 - accuracy: 0.8968 - val_loss: 0.2925 - val_accuracy: 0.8838\n",
      "Epoch 4/10\n",
      "141/141 [==============================] - 105s 740ms/step - loss: 0.2422 - accuracy: 0.9112 - val_loss: 0.2938 - val_accuracy: 0.8737\n",
      "Epoch 5/10\n",
      "141/141 [==============================] - 114s 810ms/step - loss: 0.2260 - accuracy: 0.9193 - val_loss: 0.2883 - val_accuracy: 0.8825\n",
      "Epoch 6/10\n",
      "141/141 [==============================] - 95s 674ms/step - loss: 0.2062 - accuracy: 0.9278 - val_loss: 0.3711 - val_accuracy: 0.8763\n",
      "Epoch 7/10\n",
      "141/141 [==============================] - 82s 581ms/step - loss: 0.2035 - accuracy: 0.9291 - val_loss: 0.4397 - val_accuracy: 0.8625\n"
     ]
    },
    {
     "data": {
      "text/plain": [
       "<keras.src.callbacks.History at 0x29de071c0>"
      ]
     },
     "execution_count": 44,
     "metadata": {},
     "output_type": "execute_result"
    }
   ],
   "source": [
    "model.fit(X_train1, y_train, epochs=10, batch_size=256,verbose = 1,validation_data=(X_valid1,y_valid),callbacks=[callback])"
   ]
  },
  {
   "cell_type": "code",
   "execution_count": 55,
   "metadata": {},
   "outputs": [
    {
     "name": "stdout",
     "output_type": "stream",
     "text": [
      "313/313 [==============================] - 6s 20ms/step\n",
      "Accuracy : 0.8662\n"
     ]
    }
   ],
   "source": [
    "y_pred = model.predict(X_test1)\n",
    "y_pred_classes = (y_pred > 0.5).astype(int) \n",
    "\n",
    "accuracy = accuracy_score(y_test, y_pred_classes)\n",
    "print(f\"Accuracy : {accuracy}\")"
   ]
  },
  {
   "cell_type": "code",
   "execution_count": null,
   "metadata": {},
   "outputs": [],
   "source": [
    "model.save('models/LSTM.keras')"
   ]
  },
  {
   "cell_type": "markdown",
   "metadata": {},
   "source": [
    "# CNN"
   ]
  },
  {
   "cell_type": "code",
   "execution_count": 57,
   "metadata": {},
   "outputs": [
    {
     "name": "stdout",
     "output_type": "stream",
     "text": [
      "Model: \"sequential_4\"\n",
      "_________________________________________________________________\n",
      " Layer (type)                Output Shape              Param #   \n",
      "=================================================================\n",
      " embedding_3 (Embedding)     (None, 150, 50)           10554700  \n",
      "                                                                 \n",
      " conv1d (Conv1D)             (None, 150, 32)           4832      \n",
      "                                                                 \n",
      " max_pooling1d (MaxPooling1  (None, 75, 32)            0         \n",
      " D)                                                              \n",
      "                                                                 \n",
      " lstm_2 (LSTM)               (None, 100)               53200     \n",
      "                                                                 \n",
      " dense_3 (Dense)             (None, 1)                 101       \n",
      "                                                                 \n",
      "=================================================================\n",
      "Total params: 10612833 (40.48 MB)\n",
      "Trainable params: 10612833 (40.48 MB)\n",
      "Non-trainable params: 0 (0.00 Byte)\n",
      "_________________________________________________________________\n",
      "None\n"
     ]
    }
   ],
   "source": [
    "embedding_vecor_length = 32\n",
    "callback = EarlyStopping(monitor='val_loss', patience=2)\n",
    "\n",
    "model = Sequential()\n",
    "model.add(Embedding(input_dim=vocab_size, output_dim=embedding_dim, input_length=maxlen))\n",
    "model.add(Conv1D(filters=32, kernel_size=3, padding='same', activation='relu'))\n",
    "model.add(MaxPooling1D(pool_size=2))\n",
    "model.add(LSTM(100))\n",
    "model.add(Dense(1, activation='sigmoid'))\n",
    "\n",
    "model.compile(loss='binary_crossentropy', optimizer='adam', metrics=['accuracy'])\n",
    "\n",
    "print(model.summary())"
   ]
  },
  {
   "cell_type": "code",
   "execution_count": 58,
   "metadata": {},
   "outputs": [
    {
     "name": "stdout",
     "output_type": "stream",
     "text": [
      "Epoch 1/10\n",
      "141/141 [==============================] - 25s 173ms/step - loss: 0.5436 - accuracy: 0.6727 - val_loss: 0.3203 - val_accuracy: 0.8625\n",
      "Epoch 2/10\n",
      "141/141 [==============================] - 23s 166ms/step - loss: 0.2635 - accuracy: 0.8950 - val_loss: 0.2750 - val_accuracy: 0.8813\n",
      "Epoch 3/10\n",
      "141/141 [==============================] - 23s 162ms/step - loss: 0.2110 - accuracy: 0.9201 - val_loss: 0.3418 - val_accuracy: 0.8727\n",
      "Epoch 4/10\n",
      "141/141 [==============================] - 23s 167ms/step - loss: 0.1786 - accuracy: 0.9362 - val_loss: 0.3437 - val_accuracy: 0.8795\n"
     ]
    },
    {
     "data": {
      "text/plain": [
       "<keras.src.callbacks.History at 0x2de5373a0>"
      ]
     },
     "execution_count": 58,
     "metadata": {},
     "output_type": "execute_result"
    }
   ],
   "source": [
    "model.fit(X_train1, y_train, epochs=10, batch_size=256,verbose = 1,validation_data=(X_valid1,y_valid),callbacks=[callback])"
   ]
  },
  {
   "cell_type": "code",
   "execution_count": 59,
   "metadata": {},
   "outputs": [
    {
     "name": "stdout",
     "output_type": "stream",
     "text": [
      "313/313 [==============================] - 3s 9ms/step\n",
      "Accuracy : 0.8789\n"
     ]
    }
   ],
   "source": [
    "y_pred = model.predict(X_test1)\n",
    "y_pred_classes = (y_pred > 0.5).astype(int) \n",
    "\n",
    "accuracy = accuracy_score(y_test, y_pred_classes)\n",
    "print(f\"Accuracy : {accuracy}\")"
   ]
  },
  {
   "cell_type": "code",
   "execution_count": 61,
   "metadata": {},
   "outputs": [],
   "source": [
    "model.save('models/CNN.keras')"
   ]
  },
  {
   "cell_type": "code",
   "execution_count": null,
   "metadata": {},
   "outputs": [],
   "source": []
  }
 ],
 "metadata": {
  "kernelspec": {
   "display_name": "city",
   "language": "python",
   "name": "python3"
  },
  "language_info": {
   "codemirror_mode": {
    "name": "ipython",
    "version": 3
   },
   "file_extension": ".py",
   "mimetype": "text/x-python",
   "name": "python",
   "nbconvert_exporter": "python",
   "pygments_lexer": "ipython3",
   "version": "3.10.9"
  }
 },
 "nbformat": 4,
 "nbformat_minor": 2
}

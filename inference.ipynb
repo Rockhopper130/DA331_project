{
 "cells": [
  {
   "cell_type": "code",
   "execution_count": 20,
   "metadata": {},
   "outputs": [],
   "source": [
    "from pyspark.ml.pipeline import PipelineModel\n",
    "from pyspark.ml.classification import LogisticRegressionModel\n",
    "from xgboost.spark import SparkXGBClassifierModel\n",
    "from pyspark.sql import SparkSession"
   ]
  },
  {
   "cell_type": "code",
   "execution_count": 22,
   "metadata": {},
   "outputs": [],
   "source": [
    "spark = SparkSession.builder.appName('RForest_Regression').getOrCreate()\n",
    "spark.conf.set(\"spark.sql.legacy.allowNonNumericNumbers\", \"true\")\n",
    "\n",
    "\n",
    "mPath = \"models/pyspark_XGB_model\"\n",
    "loadedModel = SparkXGBClassifierModel.load(mPath)\n"
   ]
  },
  {
   "cell_type": "code",
   "execution_count": 23,
   "metadata": {},
   "outputs": [
    {
     "data": {
      "text/plain": [
       "SparkXGBClassifier_e78e700e2472"
      ]
     },
     "execution_count": 23,
     "metadata": {},
     "output_type": "execute_result"
    }
   ],
   "source": []
  },
  {
   "cell_type": "code",
   "execution_count": null,
   "metadata": {},
   "outputs": [],
   "source": []
  },
  {
   "cell_type": "code",
   "execution_count": null,
   "metadata": {},
   "outputs": [],
   "source": []
  },
  {
   "cell_type": "code",
   "execution_count": null,
   "metadata": {},
   "outputs": [],
   "source": []
  },
  {
   "cell_type": "code",
   "execution_count": 1,
   "metadata": {},
   "outputs": [],
   "source": [
    "# import pandas as pd\n",
    "# import numpy as np\n",
    "# from pyspark.ml import PipelineModel\n",
    "# from pyspark.sql import SparkSession\n",
    "\n",
    "# import com.fasterxml.jackson.core.JsonParser\n",
    "# from com.fasterxml.jackson.core.json.JsonReadFeature import ALLOW_NON_NUMERIC_NUMBERS\n",
    "\n",
    "# spark = SparkSession.builder.appName(\"Infer\").getOrCreate()\n",
    "\n",
    "# # Enable the JsonReadFeature.ALLOW_NON_NUMERIC_NUMBERS\n",
    "# spark.sqlContext.sparkSession.builder.config(\"spark.hadoop.mapred.map.output.compress\", \"true\")\n",
    "# spark.sqlContext.sparkSession.builder.config(\"spark.sql.json.useParsedJson\", \"true\")\n",
    "# spark.sqlContext.sparkSession.builder.config(\"spark.hadoop.mapred.output.compress\", \"true\")\n",
    "# spark.sqlContext.sparkSession.builder.config(\"spark.driver.extraJavaOptions\", \"-Dcom.fasterxml.jackson.core.JsonParser.Feature.ALLOW_NON_NUMERIC_NUMBERS\")\n",
    "\n",
    "\n",
    "# model = PipelineModel.read() \\\n",
    "#     .option(JsonParser.Feature.ALLOW_NON_NUMERIC_NUMBERS, True) \\\n",
    "#     .load('models/pyspark_XGB_model')\n",
    "\n",
    "# def preprocess_input(self, sentence):\n",
    "    \n",
    "#     df = {}\n",
    "#     df[\"review\"] = sentence\n",
    "#     df['count_word']=df[\"review\"].apply(lambda x: len(str(x).split()))\n",
    "#     df['count_unique_word']=df[\"review\"].apply(lambda x: len(set(str(x).split())))\n",
    "#     df['count_letters']=df[\"review\"].apply(lambda x: len(str(x)))\n",
    "#     df[\"count_punctuations\"] =df[\"review\"].apply(lambda x: len([c for c in str(x) if c in string.punctuation]))\n",
    "#     df[\"count_words_upper\"] = df[\"review\"].apply(lambda x: len([w for w in str(x).split() if w.isupper()]))\n",
    "#     df[\"count_words_title\"] = df[\"review\"].apply(lambda x: len([w for w in str(x).split() if w.istitle()]))\n",
    "#     df[\"count_stopwords\"] = df[\"review\"].apply(lambda x: len([w for w in str(x).lower().split() if w in eng_stopwords]))\n",
    "#     df[\"mean_word_len\"] = df[\"review\"].apply(lambda x: np.mean([len(w) for w in str(x).split()]))\n",
    "#     df['word_unique_percent']=df['count_unique_word']*100/df['count_word']\n",
    "#     df['punct_percent']=df['count_punctuations']*100/df['count_word']\n",
    "#     df['word_unique_percent']=df['count_unique_word']*100/df['count_word']\n",
    "#     df['punct_percent']=df['count_punctuations']*100/df['count_word']\n",
    "    \n",
    "#     return df\n",
    "\n",
    "# def perform_model_inference(self,sentence):\n",
    "    \n",
    "#     preprocessed_sentence = preprocess_input(sentence)\n",
    "#     # pred = self.model.transform(preprocessed_sentence)\n",
    "    \n",
    "#     print(preprocessed_sentence)\n",
    "#     spark.stop()\n",
    "\n",
    "#     # Make predictions using the loaded PySpark model\n",
    "#     # predictions = self.model.transform(preprocessed_sentence)\n",
    "#     # inference_result = predictions.select(\"your_result_column\").collect()[0][0]\n",
    "\n",
    "#     # return inference_result\n",
    "    \n",
    "# perform_model_inference(\"This was so good. I loved it!\")\n",
    "\n",
    "# spark.stop()"
   ]
  },
  {
   "cell_type": "code",
   "execution_count": null,
   "metadata": {},
   "outputs": [],
   "source": []
  }
 ],
 "metadata": {
  "kernelspec": {
   "display_name": "da331_spark",
   "language": "python",
   "name": "python3"
  },
  "language_info": {
   "codemirror_mode": {
    "name": "ipython",
    "version": 3
   },
   "file_extension": ".py",
   "mimetype": "text/x-python",
   "name": "python",
   "nbconvert_exporter": "python",
   "pygments_lexer": "ipython3",
   "version": "3.10.12"
  }
 },
 "nbformat": 4,
 "nbformat_minor": 2
}
